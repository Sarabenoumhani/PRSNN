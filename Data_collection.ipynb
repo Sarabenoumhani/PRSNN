{
  "cells": [
    {
      "cell_type": "markdown",
      "metadata": {
        "id": "EInBvhNuKTWG"
      },
      "source": [
        "**PRSNN_tutorial**\n"
      ]
    },
    {
      "cell_type": "markdown",
      "metadata": {
        "id": "j298EZ3XKTWK"
      },
      "source": [
        "This tutorial outlines the key steps for running the PRSNN technique, including data collection, ensuring data quality, and the deep learning phase. It utilizes summary statistics data from the Psychiatric Genomics Consortium (PGC) and genotypes data from Opensnp. In the supplementary material, we present one of the three datasets used in our study, derived from PGC. Specifically, this dataset focuses on depression disease."
      ]
    },
    {
      "cell_type": "markdown",
      "metadata": {
        "id": "9eWbm8dWKTWK"
      },
      "source": [
        "1. Data collection:\n",
        "* The Data library includes essential functions for collecting individual genotypes from Opensnp, preprocessing PGC data, and handling the data. Its main purpose is to prepare datasets."
      ]
    },
    {
      "cell_type": "code",
      "execution_count": null,
      "metadata": {
        "id": "Ewvam30PKTWL"
      },
      "outputs": [],
      "source": [
        "import Data as dt\n",
        "import pandas as pd\n",
        "import numpy as np\n",
        "\n"
      ]
    },
    {
      "cell_type": "markdown",
      "metadata": {
        "id": "Ho1b11BLKTWM"
      },
      "source": [
        "parse_23andme function prepares genetic data for further analysis by cleaning it, handling different file formats, and ensuring consistent column names."
      ]
    },
    {
      "cell_type": "code",
      "execution_count": null,
      "metadata": {
        "id": "W0s13YRuKTWM",
        "outputId": "7828e72a-d817-4e3d-8dbc-6e8f41dc1958"
      },
      "outputs": [
        {
          "name": "stderr",
          "output_type": "stream",
          "text": [
            "c:\\Users\\Moussa Benoumhani\\OneDrive\\Desktop\\Data for MLnn\\Data.py:26: DtypeWarning: Columns (1) have mixed types. Specify dtype option on import or set low_memory=False.\n",
            "  df=pd.read_csv(file, sep='\\t', header=None)\n"
          ]
        },
        {
          "data": {
            "text/html": [
              "<div>\n",
              "<style scoped>\n",
              "    .dataframe tbody tr th:only-of-type {\n",
              "        vertical-align: middle;\n",
              "    }\n",
              "\n",
              "    .dataframe tbody tr th {\n",
              "        vertical-align: top;\n",
              "    }\n",
              "\n",
              "    .dataframe thead th {\n",
              "        text-align: right;\n",
              "    }\n",
              "</style>\n",
              "<table border=\"1\" class=\"dataframe\">\n",
              "  <thead>\n",
              "    <tr style=\"text-align: right;\">\n",
              "      <th></th>\n",
              "      <th>rsid</th>\n",
              "      <th>chromosome</th>\n",
              "      <th>position</th>\n",
              "      <th>genotype</th>\n",
              "    </tr>\n",
              "  </thead>\n",
              "  <tbody>\n",
              "    <tr>\n",
              "      <th>0</th>\n",
              "      <td>rs548049170</td>\n",
              "      <td>1</td>\n",
              "      <td>69869</td>\n",
              "      <td>TT</td>\n",
              "    </tr>\n",
              "    <tr>\n",
              "      <th>1</th>\n",
              "      <td>rs9326622</td>\n",
              "      <td>1</td>\n",
              "      <td>567092</td>\n",
              "      <td>CC</td>\n",
              "    </tr>\n",
              "    <tr>\n",
              "      <th>2</th>\n",
              "      <td>rs116587930</td>\n",
              "      <td>1</td>\n",
              "      <td>727841</td>\n",
              "      <td>GG</td>\n",
              "    </tr>\n",
              "    <tr>\n",
              "      <th>3</th>\n",
              "      <td>rs3131972</td>\n",
              "      <td>1</td>\n",
              "      <td>752721</td>\n",
              "      <td>GG</td>\n",
              "    </tr>\n",
              "    <tr>\n",
              "      <th>4</th>\n",
              "      <td>rs12184325</td>\n",
              "      <td>1</td>\n",
              "      <td>754105</td>\n",
              "      <td>CC</td>\n",
              "    </tr>\n",
              "    <tr>\n",
              "      <th>...</th>\n",
              "      <td>...</td>\n",
              "      <td>...</td>\n",
              "      <td>...</td>\n",
              "      <td>...</td>\n",
              "    </tr>\n",
              "    <tr>\n",
              "      <th>643530</th>\n",
              "      <td>i704756</td>\n",
              "      <td>MT</td>\n",
              "      <td>16524</td>\n",
              "      <td>A</td>\n",
              "    </tr>\n",
              "    <tr>\n",
              "      <th>643531</th>\n",
              "      <td>i705255</td>\n",
              "      <td>MT</td>\n",
              "      <td>16525</td>\n",
              "      <td>A</td>\n",
              "    </tr>\n",
              "    <tr>\n",
              "      <th>643532</th>\n",
              "      <td>i4000757</td>\n",
              "      <td>MT</td>\n",
              "      <td>16526</td>\n",
              "      <td>G</td>\n",
              "    </tr>\n",
              "    <tr>\n",
              "      <th>643533</th>\n",
              "      <td>i701671</td>\n",
              "      <td>MT</td>\n",
              "      <td>16526</td>\n",
              "      <td>G</td>\n",
              "    </tr>\n",
              "    <tr>\n",
              "      <th>643534</th>\n",
              "      <td>i745490</td>\n",
              "      <td>MT</td>\n",
              "      <td>16545</td>\n",
              "      <td>T</td>\n",
              "    </tr>\n",
              "  </tbody>\n",
              "</table>\n",
              "<p>643535 rows × 4 columns</p>\n",
              "</div>"
            ],
            "text/plain": [
              "               rsid chromosome  position genotype\n",
              "0       rs548049170          1     69869       TT\n",
              "1         rs9326622          1    567092       CC\n",
              "2       rs116587930          1    727841       GG\n",
              "3         rs3131972          1    752721       GG\n",
              "4        rs12184325          1    754105       CC\n",
              "...             ...        ...       ...      ...\n",
              "643530      i704756         MT     16524        A\n",
              "643531      i705255         MT     16525        A\n",
              "643532     i4000757         MT     16526        G\n",
              "643533      i701671         MT     16526        G\n",
              "643534      i745490         MT     16545        T\n",
              "\n",
              "[643535 rows x 4 columns]"
            ]
          },
          "execution_count": 21,
          "metadata": {},
          "output_type": "execute_result"
        }
      ],
      "source": [
        "dt.parse_23andme('12004.23andme.9868')"
      ]
    },
    {
      "cell_type": "markdown",
      "metadata": {
        "id": "W99Oo3rIKTWN"
      },
      "source": [
        "crawl_opensnps function scrapes Opensnp genotypes data, collects file URLs along with their types, and writes them to a TSV file for further processing"
      ]
    },
    {
      "cell_type": "code",
      "execution_count": null,
      "metadata": {
        "id": "ZcwvwxXpKTWN",
        "outputId": "95b4c600-d168-424d-eb8d-d013ded896f8"
      },
      "outputs": [
        {
          "data": {
            "text/html": [
              "<div>\n",
              "<style scoped>\n",
              "    .dataframe tbody tr th:only-of-type {\n",
              "        vertical-align: middle;\n",
              "    }\n",
              "\n",
              "    .dataframe tbody tr th {\n",
              "        vertical-align: top;\n",
              "    }\n",
              "\n",
              "    .dataframe thead th {\n",
              "        text-align: right;\n",
              "    }\n",
              "</style>\n",
              "<table border=\"1\" class=\"dataframe\">\n",
              "  <thead>\n",
              "    <tr style=\"text-align: right;\">\n",
              "      <th></th>\n",
              "      <th>file</th>\n",
              "      <th>type</th>\n",
              "    </tr>\n",
              "  </thead>\n",
              "  <tbody>\n",
              "    <tr>\n",
              "      <th>0</th>\n",
              "      <td>https://opensnp.org/data/4120.23andme.2788</td>\n",
              "      <td>23andme</td>\n",
              "    </tr>\n",
              "    <tr>\n",
              "      <th>1</th>\n",
              "      <td>https://opensnp.org/data/4441.23andme.3044</td>\n",
              "      <td>23andme</td>\n",
              "    </tr>\n",
              "    <tr>\n",
              "      <th>2</th>\n",
              "      <td>https://opensnp.org/data/4126.23andme.2792</td>\n",
              "      <td>23andme</td>\n",
              "    </tr>\n",
              "    <tr>\n",
              "      <th>3</th>\n",
              "      <td>https://opensnp.org/data/4125.23andme.2791</td>\n",
              "      <td>23andme</td>\n",
              "    </tr>\n",
              "    <tr>\n",
              "      <th>4</th>\n",
              "      <td>https://opensnp.org/data/3110.23andme.2003</td>\n",
              "      <td>23andme</td>\n",
              "    </tr>\n",
              "  </tbody>\n",
              "</table>\n",
              "</div>"
            ],
            "text/plain": [
              "                                         file     type\n",
              "0  https://opensnp.org/data/4120.23andme.2788  23andme\n",
              "1  https://opensnp.org/data/4441.23andme.3044  23andme\n",
              "2  https://opensnp.org/data/4126.23andme.2792  23andme\n",
              "3  https://opensnp.org/data/4125.23andme.2791  23andme\n",
              "4  https://opensnp.org/data/3110.23andme.2003  23andme"
            ]
          },
          "execution_count": 23,
          "metadata": {},
          "output_type": "execute_result"
        }
      ],
      "source": [
        "dt.crawl_opensnps()\n",
        "df=pd.read_csv('list_opensnps.tsv', sep='\\t')\n",
        "df.head()\n",
        "\n"
      ]
    },
    {
      "cell_type": "code",
      "execution_count": null,
      "metadata": {
        "id": "qmexCTAPKTWN",
        "outputId": "d9ede814-2199-42a2-e096-c7361662add9"
      },
      "outputs": [
        {
          "data": {
            "text/html": [
              "<div>\n",
              "<style scoped>\n",
              "    .dataframe tbody tr th:only-of-type {\n",
              "        vertical-align: middle;\n",
              "    }\n",
              "\n",
              "    .dataframe tbody tr th {\n",
              "        vertical-align: top;\n",
              "    }\n",
              "\n",
              "    .dataframe thead th {\n",
              "        text-align: right;\n",
              "    }\n",
              "</style>\n",
              "<table border=\"1\" class=\"dataframe\">\n",
              "  <thead>\n",
              "    <tr style=\"text-align: right;\">\n",
              "      <th></th>\n",
              "      <th>file</th>\n",
              "    </tr>\n",
              "    <tr>\n",
              "      <th>type</th>\n",
              "      <th></th>\n",
              "    </tr>\n",
              "  </thead>\n",
              "  <tbody>\n",
              "    <tr>\n",
              "      <th>23andme</th>\n",
              "      <td>5018</td>\n",
              "    </tr>\n",
              "    <tr>\n",
              "      <th>23andme-exome-vcf</th>\n",
              "      <td>148</td>\n",
              "    </tr>\n",
              "    <tr>\n",
              "      <th>IYG</th>\n",
              "      <td>14</td>\n",
              "    </tr>\n",
              "    <tr>\n",
              "      <th>ancestry</th>\n",
              "      <td>1181</td>\n",
              "    </tr>\n",
              "    <tr>\n",
              "      <th>decodeme</th>\n",
              "      <td>8</td>\n",
              "    </tr>\n",
              "    <tr>\n",
              "      <th>ftdna-illumina</th>\n",
              "      <td>688</td>\n",
              "    </tr>\n",
              "    <tr>\n",
              "      <th>genes-for-good</th>\n",
              "      <td>13</td>\n",
              "    </tr>\n",
              "  </tbody>\n",
              "</table>\n",
              "</div>"
            ],
            "text/plain": [
              "                   file\n",
              "type                   \n",
              "23andme            5018\n",
              "23andme-exome-vcf   148\n",
              "IYG                  14\n",
              "ancestry           1181\n",
              "decodeme              8\n",
              "ftdna-illumina      688\n",
              "genes-for-good       13"
            ]
          },
          "execution_count": 24,
          "metadata": {},
          "output_type": "execute_result"
        }
      ],
      "source": [
        "grouped=df.groupby('type').count()\n",
        "grouped"
      ]
    },
    {
      "cell_type": "markdown",
      "metadata": {
        "id": "vROp42s3KTWO"
      },
      "source": [
        "Data_quality function ensures data quality by cleaning and structuring the genetic data for subsequent analysis. Here is the link to donload the PGC data for various mental disease: /pgc.unc.edu/for-researchers/download-results/.\n",
        "An example of utilizing summary statistics for depression and anxiety data from PGC."
      ]
    },
    {
      "cell_type": "code",
      "execution_count": null,
      "metadata": {
        "id": "6IrlHO4HKTWO",
        "outputId": "655fb224-b7b4-4b77-b4e9-c5ff38207562"
      },
      "outputs": [
        {
          "name": "stdout",
          "output_type": "stream",
          "text": [
            "        rsid genotype  effect weight        P  Case of disease\n",
            "0  rs1000033       tg        -0.0574  0.09867                0\n",
            "1  rs1000050       tc         0.0654  0.15640                0\n",
            "2  rs1000070       tc        -0.0229  0.45800                0\n",
            "3  rs1000073       ag        -0.0057  0.84730                0\n",
            "4  rs1000075       tc        -0.0353  0.20890                0\n"
          ]
        }
      ],
      "source": [
        "df = pd.read_csv(\"anxiety.meta.full.cc.tbl\",sep='\\t')\n",
        "data=dt.Data_quality(df)\n",
        "data.head()"
      ]
    },
    {
      "cell_type": "code",
      "execution_count": null,
      "metadata": {
        "id": "UlSXHOAWKTWO",
        "outputId": "5e27adc8-3c93-454d-f1e4-6bc4c9cc66d6"
      },
      "outputs": [
        {
          "data": {
            "text/plain": [
              "(9874289, 5)"
            ]
          },
          "execution_count": 47,
          "metadata": {},
          "output_type": "execute_result"
        }
      ],
      "source": [
        "df = pd.read_csv(\"Depression sum data.csv\")\n",
        "df.shape"
      ]
    }
  ],
  "metadata": {
    "kernelspec": {
      "display_name": "Python 3",
      "language": "python",
      "name": "python3"
    },
    "language_info": {
      "codemirror_mode": {
        "name": "ipython",
        "version": 3
      },
      "file_extension": ".py",
      "mimetype": "text/x-python",
      "name": "python",
      "nbconvert_exporter": "python",
      "pygments_lexer": "ipython3",
      "version": "3.11.3"
    },
    "colab": {
      "provenance": []
    }
  },
  "nbformat": 4,
  "nbformat_minor": 0
}