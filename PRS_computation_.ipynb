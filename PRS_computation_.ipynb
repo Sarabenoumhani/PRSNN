{
  "cells": [
    {
      "cell_type": "markdown",
      "source": [
        "4. PRS computation:\n",
        "\n",
        "Calculating the polygenic risk scores based on:\n",
        "\n",
        "Args:\n",
        "\n",
        "*   base (pandas.DataFrame): GWAS data containing SNPs and relevant information.\n",
        "*   dat (pandas.DataFrame): Individual data with SNPs and genotypes.\n",
        "\n",
        "Returns:\n",
        "* float: The calculated PRS."
      ],
      "metadata": {
        "id": "jyVzpq_r0sGU"
      }
    },
    {
      "cell_type": "code",
      "execution_count": null,
      "metadata": {
        "colab": {
          "base_uri": "https://localhost:8080/"
        },
        "id": "jwsFWbCc9upX",
        "outputId": "6568d9b7-6bff-4687-b3db-a9ecfdcc037f"
      },
      "outputs": [
        {
          "name": "stdout",
          "output_type": "stream",
          "text": [
            "Requirement already satisfied: prince in /usr/local/lib/python3.10/dist-packages (0.13.0)\n",
            "Requirement already satisfied: altair<6.0.0,>=4.2.2 in /usr/local/lib/python3.10/dist-packages (from prince) (4.2.2)\n",
            "Requirement already satisfied: pandas<3.0.0,>=1.4.1 in /usr/local/lib/python3.10/dist-packages (from prince) (2.0.3)\n",
            "Requirement already satisfied: scikit-learn<2.0.0,>=1.0.2 in /usr/local/lib/python3.10/dist-packages (from prince) (1.2.2)\n",
            "Requirement already satisfied: entrypoints in /usr/local/lib/python3.10/dist-packages (from altair<6.0.0,>=4.2.2->prince) (0.4)\n",
            "Requirement already satisfied: jinja2 in /usr/local/lib/python3.10/dist-packages (from altair<6.0.0,>=4.2.2->prince) (3.1.3)\n",
            "Requirement already satisfied: jsonschema>=3.0 in /usr/local/lib/python3.10/dist-packages (from altair<6.0.0,>=4.2.2->prince) (4.19.2)\n",
            "Requirement already satisfied: numpy in /usr/local/lib/python3.10/dist-packages (from altair<6.0.0,>=4.2.2->prince) (1.25.2)\n",
            "Requirement already satisfied: toolz in /usr/local/lib/python3.10/dist-packages (from altair<6.0.0,>=4.2.2->prince) (0.12.1)\n",
            "Requirement already satisfied: python-dateutil>=2.8.2 in /usr/local/lib/python3.10/dist-packages (from pandas<3.0.0,>=1.4.1->prince) (2.8.2)\n",
            "Requirement already satisfied: pytz>=2020.1 in /usr/local/lib/python3.10/dist-packages (from pandas<3.0.0,>=1.4.1->prince) (2023.4)\n",
            "Requirement already satisfied: tzdata>=2022.1 in /usr/local/lib/python3.10/dist-packages (from pandas<3.0.0,>=1.4.1->prince) (2024.1)\n",
            "Requirement already satisfied: scipy>=1.3.2 in /usr/local/lib/python3.10/dist-packages (from scikit-learn<2.0.0,>=1.0.2->prince) (1.11.4)\n",
            "Requirement already satisfied: joblib>=1.1.1 in /usr/local/lib/python3.10/dist-packages (from scikit-learn<2.0.0,>=1.0.2->prince) (1.4.0)\n",
            "Requirement already satisfied: threadpoolctl>=2.0.0 in /usr/local/lib/python3.10/dist-packages (from scikit-learn<2.0.0,>=1.0.2->prince) (3.5.0)\n",
            "Requirement already satisfied: attrs>=22.2.0 in /usr/local/lib/python3.10/dist-packages (from jsonschema>=3.0->altair<6.0.0,>=4.2.2->prince) (23.2.0)\n",
            "Requirement already satisfied: jsonschema-specifications>=2023.03.6 in /usr/local/lib/python3.10/dist-packages (from jsonschema>=3.0->altair<6.0.0,>=4.2.2->prince) (2023.12.1)\n",
            "Requirement already satisfied: referencing>=0.28.4 in /usr/local/lib/python3.10/dist-packages (from jsonschema>=3.0->altair<6.0.0,>=4.2.2->prince) (0.35.0)\n",
            "Requirement already satisfied: rpds-py>=0.7.1 in /usr/local/lib/python3.10/dist-packages (from jsonschema>=3.0->altair<6.0.0,>=4.2.2->prince) (0.18.0)\n",
            "Requirement already satisfied: six>=1.5 in /usr/local/lib/python3.10/dist-packages (from python-dateutil>=2.8.2->pandas<3.0.0,>=1.4.1->prince) (1.16.0)\n",
            "Requirement already satisfied: MarkupSafe>=2.0 in /usr/local/lib/python3.10/dist-packages (from jinja2->altair<6.0.0,>=4.2.2->prince) (2.1.5)\n"
          ]
        }
      ],
      "source": [
        "!pip install prince"
      ]
    },
    {
      "cell_type": "code",
      "execution_count": null,
      "metadata": {
        "id": "h2V1vG_zSJiE"
      },
      "outputs": [],
      "source": [
        "genotype=pd.read_csv('Depression.csv')\n",
        "def calculate_prs(base, dat):\n",
        "    # Map individual SNPs to the corresponding genotype\n",
        "    mapp = {snp: genotype for snp, genotype in zip(dat['rsid'], dat['genotype'])}\n",
        "    # Filter base GWAS data to keep the same SNPs as in the individual file\n",
        "    base = base[base['rsid'].isin(dat['rsid'])]\n",
        "    m = len(base)\n",
        "    prs = 0\n",
        "    # Iterate to obtain the partial contribution of each SNP for the PRS\n",
        "    for i in range(m):\n",
        "        snp = base.iloc[i, 0]\n",
        "        effect_allele = base.iloc[i, 2][0].upper()\n",
        "        beta = base.iloc[i, 4]\n",
        "        dosage = sum(1 for _ in re.finditer(effect_allele, mapp[snp]))\n",
        "        prs += beta * dosage\n",
        "    return prs\n",
        "\n",
        "def calculate_prswithml(base, dat):\n",
        "    # Map individual SNPs to the corresponding genotype\n",
        "    mapp = {snp: genotype for snp, genotype in zip(dat['rsid'], dat['genotype'])}\n",
        "    # Filter base GWAS data to keep the same SNPs as in the individual file\n",
        "    base = base[base['rsid'].isin(dat['rsid'])]\n",
        "\n",
        "    print(f\"Found {len(base)} variants\")\n",
        "    m = len(base)\n",
        "    prs = 0\n",
        "    # Iterate to obtain the partial contribution of each SNP for the PRS\n",
        "    for i in range(m):\n",
        "        snp = base.iloc[i, 0]\n",
        "        effect_allele = base.iloc[i, 2][0].upper()\n",
        "        beta = base.iloc[i, 11]  # Beta here presents the new weight\n",
        "        dosage = len(re.findall(effect_allele, mapp[snp]))\n",
        "\n",
        "        prs += beta * dosage\n",
        "\n",
        "    return prs\n"
      ]
    },
    {
      "cell_type": "markdown",
      "source": [
        "The calculate_prs function remains unchanged, calculating the PRS using the original beta values (effect weights).\n",
        "The calculate_prswithml function calculates the PRS with new weight.\n",
        "The file_paths contains the file paths for the genotype files of individuals from Opensnp. Our goal is to calculate their PRS using two different methods."
      ],
      "metadata": {
        "id": "oHcdIhMC59zw"
      }
    },
    {
      "cell_type": "code",
      "execution_count": null,
      "metadata": {
        "colab": {
          "base_uri": "https://localhost:8080/"
        },
        "id": "MAuNwgpYoKFY",
        "outputId": "aed9a53e-7e23-48e7-cd0b-1c7e96c9dd3e"
      },
      "outputs": [
        {
          "name": "stderr",
          "output_type": "stream",
          "text": [
            "<ipython-input-4-6232163ab674>:60: DtypeWarning: Columns (1) have mixed types. Specify dtype option on import or set low_memory=False.\n",
            "  df=pd.read_csv(file, sep='\\t', header=None)\n"
          ]
        },
        {
          "name": "stdout",
          "output_type": "stream",
          "text": [
            "Found  8336  variants\n",
            "Found  8336  variants\n",
            "Found  9683  variants\n",
            "Found  9683  variants\n",
            "Found  9410  variants\n",
            "Found  9410  variants\n",
            "Found  2963  variants\n",
            "Found  2963  variants\n",
            "Found  9410  variants\n",
            "Found  9410  variants\n",
            "Found  9410  variants\n",
            "Found  9410  variants\n",
            "Found  9410  variants\n",
            "Found  9410  variants\n",
            "Found  9410  variants\n",
            "Found  9410  variants\n",
            "Found  2963  variants\n",
            "Found  2963  variants\n",
            "Found  9410  variants\n",
            "Found  9410  variants\n",
            "Found  9410  variants\n",
            "Found  9410  variants\n",
            "Found  9410  variants\n",
            "Found  9410  variants\n",
            "Found  9410  variants\n",
            "Found  9410  variants\n",
            "Found  2963  variants\n",
            "Found  2963  variants\n",
            "Found  9410  variants\n",
            "Found  9410  variants\n",
            "Found  2963  variants\n",
            "Found  2963  variants\n"
          ]
        },
        {
          "name": "stderr",
          "output_type": "stream",
          "text": [
            "<ipython-input-4-6232163ab674>:60: DtypeWarning: Columns (1) have mixed types. Specify dtype option on import or set low_memory=False.\n",
            "  df=pd.read_csv(file, sep='\\t', header=None)\n"
          ]
        },
        {
          "name": "stdout",
          "output_type": "stream",
          "text": [
            "Found  8337  variants\n",
            "Found  8337  variants\n",
            "Found  9410  variants\n",
            "Found  9410  variants\n"
          ]
        },
        {
          "name": "stderr",
          "output_type": "stream",
          "text": [
            "<ipython-input-4-6232163ab674>:60: DtypeWarning: Columns (1) have mixed types. Specify dtype option on import or set low_memory=False.\n",
            "  df=pd.read_csv(file, sep='\\t', header=None)\n"
          ]
        },
        {
          "name": "stdout",
          "output_type": "stream",
          "text": [
            "Found  8337  variants\n",
            "Found  8337  variants\n",
            "Found  9722  variants\n",
            "Found  9722  variants\n",
            "Found  5913  variants\n",
            "Found  5913  variants\n"
          ]
        },
        {
          "name": "stderr",
          "output_type": "stream",
          "text": [
            "<ipython-input-4-6232163ab674>:60: DtypeWarning: Columns (1) have mixed types. Specify dtype option on import or set low_memory=False.\n",
            "  df=pd.read_csv(file, sep='\\t', header=None)\n"
          ]
        },
        {
          "name": "stdout",
          "output_type": "stream",
          "text": [
            "Found  8337  variants\n",
            "Found  8337  variants\n"
          ]
        },
        {
          "name": "stderr",
          "output_type": "stream",
          "text": [
            "<ipython-input-4-6232163ab674>:60: DtypeWarning: Columns (1) have mixed types. Specify dtype option on import or set low_memory=False.\n",
            "  df=pd.read_csv(file, sep='\\t', header=None)\n"
          ]
        },
        {
          "name": "stdout",
          "output_type": "stream",
          "text": [
            "Found  8337  variants\n",
            "Found  8337  variants\n"
          ]
        },
        {
          "name": "stderr",
          "output_type": "stream",
          "text": [
            "<ipython-input-4-6232163ab674>:60: DtypeWarning: Columns (1) have mixed types. Specify dtype option on import or set low_memory=False.\n",
            "  df=pd.read_csv(file, sep='\\t', header=None)\n"
          ]
        },
        {
          "name": "stdout",
          "output_type": "stream",
          "text": [
            "Found  8337  variants\n",
            "Found  8337  variants\n",
            "Found  9410  variants\n",
            "Found  9410  variants\n",
            "Found  0  variants\n",
            "Found  0  variants\n",
            "Found  0  variants\n",
            "Found  0  variants\n"
          ]
        },
        {
          "name": "stderr",
          "output_type": "stream",
          "text": [
            "<ipython-input-4-6232163ab674>:60: DtypeWarning: Columns (1) have mixed types. Specify dtype option on import or set low_memory=False.\n",
            "  df=pd.read_csv(file, sep='\\t', header=None)\n"
          ]
        },
        {
          "name": "stdout",
          "output_type": "stream",
          "text": [
            "Found  8336  variants\n",
            "Found  8336  variants\n"
          ]
        },
        {
          "name": "stderr",
          "output_type": "stream",
          "text": [
            "<ipython-input-4-6232163ab674>:60: DtypeWarning: Columns (1) have mixed types. Specify dtype option on import or set low_memory=False.\n",
            "  df=pd.read_csv(file, sep='\\t', header=None)\n"
          ]
        },
        {
          "name": "stdout",
          "output_type": "stream",
          "text": [
            "Found  8337  variants\n",
            "Found  8337  variants\n",
            "User ID\tBasic Method PRS\tML Method PRS\n",
            "----------------------------------------\n",
            "16\t1.1999\t\t\t2.4827\n",
            "241\t1.2838\t\t\t3.4586\n",
            "251\t2.2867\t\t\t3.6331\n",
            "268\t-1.5482\t\t\t-0.6229\n",
            "368\t5.0173\t\t\t5.1741\n",
            "943\t-0.6168\t\t\t1.4943\n",
            "1085\t1.2173\t\t\t1.1100\n",
            "1104\t3.2245\t\t\t4.2999\n",
            "1233\t1.8202\t\t\t3.3368\n",
            "1281\t0.7224\t\t\t4.5828\n",
            "1375\t-0.1541\t\t\t2.5237\n",
            "1392\t0.2822\t\t\t0.0521\n",
            "1459\t-0.0157\t\t\t2.2024\n",
            "1499\t1.4210\t\t\t0.6613\n",
            "1522\t-6.1575\t\t\t-2.5527\n",
            "1712\t-1.3664\t\t\t1.6623\n",
            "1952\t-1.3907\t\t\t0.3028\n",
            "1964\t-4.4757\t\t\t1.5267\n",
            "1970\t-1.9851\t\t\t-0.0194\n",
            "2004\t-5.3403\t\t\t-1.8946\n",
            "2099\t4.0046\t\t\t3.0165\n",
            "2516\t2.3320\t\t\t4.1234\n",
            "2629\t0.0000\t\t\t0.0000\n",
            "2686\t-2.1858\t\t\t0.2042\n",
            "2745\t-0.4037\t\t\t-0.7464\n"
          ]
        }
      ],
      "source": [
        "import os\n",
        "file_paths = [\"/content/16.23andme.3446\",\"/content/241.23andme.107\",\"/content/251.23andme.97\",\"/content/268.23andme.106\",\"/content/368.23andme.168\",\"/content/943.23andme.470\", \"/content/1085.23andme.557\",\"/content/1104.23andme.2221\",\"/content/1281.23andme.682\",\"/content/1375.23andme (1).726\",\"/content/1392.23andme.742\",\"/content/1459.23andme.799\",\"/content/1499.23andme.818\",\"/content/1522.23andme.839\",\"/content/1712.23andme (2).988\",\"/content/1952.23andme.1206\",\"/content/1964.23andme.1683\",\"/content/1970.23andme.1158\",\"/content/2004.23andme.1189\",\"/content/2099.23andme.1272\",\"/content/2516.23andme.1545\",\"/content/2629.23andme (1).1647\",\"/content/2686.23andme.1721\",\"/content/2745.23andme.1749\",\"/content/2239.23andme.1380\",\"/content/2398.23andme.1490\",\"/content/2881.23andme.1824\",\"/content/2971.23andme.1899\",\"/content/3468.23andme (1).2257\",\"/content/3468.23andme (2).2257\",\"/content/3468.23andme.2257\",\"/content/3780.23andme (1).2506\",\"/content/3913.23andme (1).2617\",\"/content/3913.23andme.2617\",\"/content/3974.23andme.2744\",\"/content/4095.23andme.2771\",\"/content/4120.23andme.2788\",\"/content/4181.23andme.2839\",\"/content/4619.23andme.3220\",\"/content/6031.23andme.4527\",\"/content/9126.23andme.7468\",\"/content/10095.23andme.8356\",\"/content/11790.23andme (1).9689\",\"/content/12004.23andme.9868\",\"/content/1.23andme.2995\"]\n",
        "\n",
        "prs_results = {}\n",
        "prsML_results = {}\n",
        "\n",
        "for file_path in file_paths:\n",
        "    # Extract user ID and file ending\n",
        "    user_id, file_ending = os.path.basename(file_path).split('.')[0], os.path.basename(file_path).split('.')[2]\n",
        "    dat = dt.parse_23andme(file_path)\n",
        "    # Calculate PRS using basic method\n",
        "    prs = calculate_prs(genotype, dat)\n",
        "    prs_results[user_id] = prs\n",
        "\n",
        "    # Calculate PRS using PRSNN\n",
        "    prsml = calculate_prswithml(genotype, dat)\n",
        "    prsML_results[user_id] = prsml\n",
        "\n",
        "# Print user IDs and their PRS values in tables\n",
        "print(\"User ID\\tBasic Method PRS\\tML Method PRS\") #ML method presents PRSNN\n",
        "print(\"-\" * 40)\n",
        "for user_id, prs in prs_results.items():\n",
        "    print(f\"{user_id}\\t{prs:.4f}\\t\\t\\t{prsML_results[user_id]:.4f}\")"
      ]
    }
  ],
  "metadata": {
    "colab": {
      "provenance": []
    },
    "kernelspec": {
      "display_name": "Python 3",
      "name": "python3"
    },
    "language_info": {
      "name": "python"
    }
  },
  "nbformat": 4,
  "nbformat_minor": 0
}